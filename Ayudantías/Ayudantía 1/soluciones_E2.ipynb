{
  "nbformat": 4,
  "nbformat_minor": 0,
  "metadata": {
    "colab": {
      "provenance": []
    },
    "kernelspec": {
      "name": "python3",
      "display_name": "Python 3"
    },
    "language_info": {
      "name": "python"
    }
  },
  "cells": [
    {
      "cell_type": "markdown",
      "source": [
        "<h1><center>Ejercicio 2</center></h1>\n",
        "<h3><center>Posible Solución</center></h3>\n",
        "\n"
      ],
      "metadata": {
        "id": "lBZl5pvOx5AV"
      }
    },
    {
      "cell_type": "code",
      "source": [
        "import random\n",
        "from collections import deque\n",
        "import math"
      ],
      "metadata": {
        "id": "lA_OG4AdSX0_"
      },
      "execution_count": 38,
      "outputs": []
    },
    {
      "cell_type": "markdown",
      "source": [
        "# Problema 1"
      ],
      "metadata": {
        "id": "WdRhurcSyD34"
      }
    },
    {
      "cell_type": "code",
      "execution_count": 50,
      "metadata": {
        "id": "oUNdT3Tkx0bO",
        "colab": {
          "base_uri": "https://localhost:8080/"
        },
        "outputId": "dc38d430-9c16-48eb-ba4b-a3c56a3e6dc4"
      },
      "outputs": [
        {
          "output_type": "stream",
          "name": "stdout",
          "text": [
            "[1, 2, 3, 6, 7, 9, 10, 12, 15, 16, 18, 100]\n"
          ]
        }
      ],
      "source": [
        "def camino_maximo(lista1, lista2):\n",
        "    # una solucion al problema\n",
        "    lista_final = []\n",
        "    last_index1 = 0\n",
        "    last_index2 = 0\n",
        "\n",
        "    for i in range(len(lista1)):\n",
        "        if lista1[i] in lista2:\n",
        "            if sum(lista1[last_index1:i]) > sum(lista2[last_index2:lista2.index(lista1[i])]):\n",
        "                lista_final.extend(lista1[last_index1:i])\n",
        "            else:\n",
        "                lista_final.extend(lista2[last_index2:lista2.index(lista1[i])])\n",
        "            last_index1 = i\n",
        "            last_index2 = lista2.index(lista1[i])\n",
        "    if sum(lista1[last_index1:]) > sum(lista2[last_index2:]):\n",
        "        lista_final.extend(lista1[last_index1:])\n",
        "    else:\n",
        "        lista_final.extend(lista2[last_index2:])\n",
        "    return lista_final\n",
        "\n",
        "\n",
        "lista1 = [3,6,7,8,10,12,15,18,100]\n",
        "lista2 = [1,2,3,5,7,9,10,11,15,16,18,25,50]\n",
        "s = camino_maximo(lista1, lista2)\n",
        "print(s)\n"
      ]
    },
    {
      "cell_type": "markdown",
      "source": [
        "# Problema 2"
      ],
      "metadata": {
        "id": "JZBo7f4XyFPU"
      }
    },
    {
      "cell_type": "code",
      "source": [
        "def son_anagramas(string1, string2):\n",
        "    diccionario_str = {}\n",
        "    # una solucion al problema\n",
        "    for letra in string1:\n",
        "        if letra in diccionario_str:\n",
        "            diccionario_str[letra] += 1\n",
        "        else:\n",
        "            diccionario_str[letra] = 1\n",
        "\n",
        "    for letra in string2:\n",
        "        if letra in diccionario_str:\n",
        "            if diccionario_str[letra] > 0:\n",
        "                diccionario_str[letra] -= 1\n",
        "            else:\n",
        "                return False\n",
        "        else:\n",
        "            return False\n",
        "\n",
        "    for value in list(diccionario_str.values()):\n",
        "        if value != 0:\n",
        "            return False\n",
        "\n",
        "    return True\n",
        "\n",
        "string1 = 'solucion'\n",
        "string2 = 'oclusion'\n",
        "s = son_anagramas(string1, string2)\n",
        "print(s)\n"
      ],
      "metadata": {
        "colab": {
          "base_uri": "https://localhost:8080/"
        },
        "id": "rRI3Wl0-8q04",
        "outputId": "b0b17140-ab4e-4e2f-c990-73b0423756fb"
      },
      "execution_count": null,
      "outputs": [
        {
          "output_type": "stream",
          "name": "stdout",
          "text": [
            "False\n"
          ]
        }
      ]
    },
    {
      "cell_type": "markdown",
      "source": [
        "# Problema 3"
      ],
      "metadata": {
        "id": "ZOdVD2cP-caV"
      }
    },
    {
      "cell_type": "code",
      "source": [
        "class Habitacion:\n",
        "    # El laberinto está basado en la estructura Arból\n",
        "\n",
        "    def __init__(self, id_nodo, id_padre=None):\n",
        "        self.id_nodo = id_nodo\n",
        "        self.id_padre = id_padre\n",
        "        self.salida = False\n",
        "        self.hijos = {}\n",
        "\n",
        "    def agregar_nodo(self, id_nodo, id_padre=None):\n",
        "        if self.id_nodo == id_padre:\n",
        "\n",
        "            self.hijos.update({id_nodo: Habitacion(id_nodo, id_padre)})\n",
        "\n",
        "        else:\n",
        "\n",
        "            for hijo in self.hijos.values():\n",
        "                hijo.agregar_nodo(id_nodo, id_padre)\n",
        "\n",
        "    def obtener_nodo(self, id_nodo):\n",
        "        if self.id_nodo == id_nodo:\n",
        "            return self\n",
        "        else:\n",
        "            for hijo in self.hijos.values():\n",
        "                nodo = hijo.obtener_nodo(id_nodo)\n",
        "\n",
        "                if nodo:\n",
        "\n",
        "                    return nodo\n",
        "\n",
        "    def actualizar_nodo_salida(self, id_nodo):\n",
        "        if self.id_nodo == id_nodo:\n",
        "            return self\n",
        "        else:\n",
        "            for hijo in self.hijos.values():\n",
        "                nodo = hijo.obtener_nodo(id_nodo)\n",
        "\n",
        "                if nodo:\n",
        "                    nodo.salida = True\n",
        "\n",
        "    def obtener_camino(self, id_nodo, camino_actual=[]):\n",
        "        if self.id_nodo == id_nodo:\n",
        "            camino_actual.append(self.id_nodo)\n",
        "            return camino_actual\n",
        "        else:\n",
        "            for hijo in self.hijos.values():\n",
        "                camino_nuevo = camino_actual + [self.id_nodo]\n",
        "                camino = hijo.obtener_camino(id_nodo, camino_nuevo)\n",
        "\n",
        "                if camino:\n",
        "                    return camino\n",
        "\n",
        "    def __repr__(self):\n",
        "\n",
        "        def recorrer_arbol(raiz):\n",
        "\n",
        "            # Utiliamos una cola para almacenar los nodos por visitar\n",
        "            Q = deque()\n",
        "            Q.append(raiz)\n",
        "\n",
        "            # Utilizamos una lista para registrar los nodos visitados\n",
        "            visitados = []\n",
        "\n",
        "            while len(Q) > 0:\n",
        "                p = Q.popleft()\n",
        "\n",
        "                if p.id_nodo not in visitados:\n",
        "\n",
        "                    # Revisamos si el nodo ha sido visitado. Si no ha sido visitado\n",
        "                    # lo agregamos a la lista de visitados\n",
        "\n",
        "                    visitados.append(p.id_nodo)\n",
        "\n",
        "                    #visitamos el nodo\n",
        "                    self.ret += \"nodo_id: {}, id_padre: {} -> salida: {}\\n\".format(\n",
        "                        p.id_nodo, p.id_padre, p.salida)\n",
        "\n",
        "                    # Agregamos todos los nodos hijos a la cola por visitar\n",
        "                    for hijo in p.hijos.values():\n",
        "                        Q.append(hijo)\n",
        "\n",
        "            return self\n",
        "\n",
        "        self.ret = ''\n",
        "        recorrer_arbol(self)\n",
        "        return self.ret"
      ],
      "metadata": {
        "id": "spCA4R2j-eLc"
      },
      "execution_count": 81,
      "outputs": []
    },
    {
      "cell_type": "markdown",
      "source": [
        "### Creación del mapa"
      ],
      "metadata": {
        "id": "F9OBPSwBYMtb"
      }
    },
    {
      "cell_type": "code",
      "source": [
        "def crear_salidas(habitacion_raiz, posibles_salidas, cantidad_salidas):\n",
        "    salidas = random.choices(posibles_salidas, k=int(round(cantidad_salidas)))\n",
        "    for salida in salidas:\n",
        "        habitacion_raiz.actualizar_nodo_salida(salida)\n",
        "    return habitacion_raiz, salidas\n",
        "\n",
        "def generar_pista(habitacion_raiz, salidas, max_pistas):\n",
        "    # Creamos los caminos a todas las salidas\n",
        "    lista_pistas = []\n",
        "\n",
        "    for salida in salidas:\n",
        "        recorrido = habitacion_raiz.obtener_camino(salida)\n",
        "        print(recorrido)\n",
        "        for i in range(len(recorrido) - 1):\n",
        "            lista_pistas.append([recorrido[i], recorrido[i + 1]])\n",
        "    lista_final_pistas = random.choices(lista_pistas, k=int(round(max_pistas)))\n",
        "    diccionario_final = {}\n",
        "    for lista in lista_final_pistas:\n",
        "        if lista[0] in diccionario_final:\n",
        "            diccionario_final[lista[0]].append(lista[1])\n",
        "        else:\n",
        "            diccionario_final[lista[0]] = [lista[1]]\n",
        "    return diccionario_final\n",
        "\n",
        "\n",
        "\n",
        "def crear_mapa(max_habitaciones):\n",
        "    habitacion_raiz = Habitacion(id_nodo=0)\n",
        "\n",
        "    ids_globales = 1\n",
        "\n",
        "    cola = deque()\n",
        "    cola.append(habitacion_raiz)\n",
        "\n",
        "    n_nodos = 1\n",
        "    visitados = []\n",
        "    posibles_salidas = []\n",
        "    # Creamos el mapa en base a BFS\n",
        "    while len(cola) > 0:\n",
        "        nodo_actual = cola.popleft()\n",
        "        # Generamos los hijos del nodo\n",
        "        n_hijos = random.randint(1, 5)\n",
        "        if (n_nodos + n_hijos) > max_habitaciones:\n",
        "            n_hijos = max_habitaciones - n_nodos\n",
        "        if n_hijos == 0:\n",
        "            posibles_salidas.append(nodo_actual.id_nodo)\n",
        "        n_nodos += n_hijos\n",
        "        for hijo in range(n_hijos):\n",
        "            # Lo incorporamos en el padre\n",
        "            nodo_actual.agregar_nodo(id_nodo=ids_globales, id_padre=nodo_actual.id_nodo)\n",
        "            ids_globales += 1\n",
        "        for hijo in nodo_actual.hijos.values():\n",
        "            cola.append(hijo)\n",
        "\n",
        "    habitacion_raiz, salidas = crear_salidas(habitacion_raiz, posibles_salidas, math.log(max_habitaciones))\n",
        "    dict_pistas = generar_pista(habitacion_raiz, salidas, math.log(max_habitaciones))\n",
        "\n",
        "    print(habitacion_raiz)\n",
        "    return [habitacion_raiz, dict_pistas]\n",
        "\n"
      ],
      "metadata": {
        "id": "PD9OUM42KY28"
      },
      "execution_count": 92,
      "outputs": []
    },
    {
      "cell_type": "code",
      "source": [
        "habitacion_raiz, dict_pistas = crear_mapa(max_habitaciones=100)"
      ],
      "metadata": {
        "colab": {
          "base_uri": "https://localhost:8080/"
        },
        "id": "Nm7F_EGsTws6",
        "outputId": "4ce86f9f-f597-494f-e879-56997fef45a1"
      },
      "execution_count": 93,
      "outputs": [
        {
          "output_type": "stream",
          "name": "stdout",
          "text": [
            "[0, 2, 9, 33]\n",
            "[0, 1, 6, 19, 64]\n",
            "[0, 2, 8, 27, 92]\n",
            "[0, 2, 8, 28, 97]\n",
            "[0, 1, 3, 12, 44]\n",
            "nodo_id: 0, id_padre: None -> salida: False\n",
            "nodo_id: 1, id_padre: 0 -> salida: False\n",
            "nodo_id: 2, id_padre: 0 -> salida: False\n",
            "nodo_id: 3, id_padre: 1 -> salida: False\n",
            "nodo_id: 4, id_padre: 1 -> salida: False\n",
            "nodo_id: 5, id_padre: 1 -> salida: False\n",
            "nodo_id: 6, id_padre: 1 -> salida: False\n",
            "nodo_id: 7, id_padre: 1 -> salida: False\n",
            "nodo_id: 8, id_padre: 2 -> salida: False\n",
            "nodo_id: 9, id_padre: 2 -> salida: False\n",
            "nodo_id: 10, id_padre: 3 -> salida: False\n",
            "nodo_id: 11, id_padre: 3 -> salida: False\n",
            "nodo_id: 12, id_padre: 3 -> salida: False\n",
            "nodo_id: 13, id_padre: 4 -> salida: False\n",
            "nodo_id: 14, id_padre: 5 -> salida: False\n",
            "nodo_id: 15, id_padre: 5 -> salida: False\n",
            "nodo_id: 16, id_padre: 5 -> salida: False\n",
            "nodo_id: 17, id_padre: 6 -> salida: False\n",
            "nodo_id: 18, id_padre: 6 -> salida: False\n",
            "nodo_id: 19, id_padre: 6 -> salida: False\n",
            "nodo_id: 20, id_padre: 7 -> salida: False\n",
            "nodo_id: 21, id_padre: 7 -> salida: False\n",
            "nodo_id: 22, id_padre: 7 -> salida: False\n",
            "nodo_id: 23, id_padre: 7 -> salida: False\n",
            "nodo_id: 24, id_padre: 7 -> salida: False\n",
            "nodo_id: 25, id_padre: 8 -> salida: False\n",
            "nodo_id: 26, id_padre: 8 -> salida: False\n",
            "nodo_id: 27, id_padre: 8 -> salida: False\n",
            "nodo_id: 28, id_padre: 8 -> salida: False\n",
            "nodo_id: 29, id_padre: 8 -> salida: False\n",
            "nodo_id: 30, id_padre: 9 -> salida: False\n",
            "nodo_id: 31, id_padre: 9 -> salida: False\n",
            "nodo_id: 32, id_padre: 9 -> salida: False\n",
            "nodo_id: 33, id_padre: 9 -> salida: True\n",
            "nodo_id: 34, id_padre: 9 -> salida: False\n",
            "nodo_id: 35, id_padre: 10 -> salida: False\n",
            "nodo_id: 36, id_padre: 10 -> salida: False\n",
            "nodo_id: 37, id_padre: 10 -> salida: False\n",
            "nodo_id: 38, id_padre: 10 -> salida: False\n",
            "nodo_id: 39, id_padre: 11 -> salida: False\n",
            "nodo_id: 40, id_padre: 11 -> salida: False\n",
            "nodo_id: 41, id_padre: 11 -> salida: False\n",
            "nodo_id: 42, id_padre: 11 -> salida: False\n",
            "nodo_id: 43, id_padre: 11 -> salida: False\n",
            "nodo_id: 44, id_padre: 12 -> salida: True\n",
            "nodo_id: 45, id_padre: 12 -> salida: False\n",
            "nodo_id: 46, id_padre: 12 -> salida: False\n",
            "nodo_id: 47, id_padre: 13 -> salida: False\n",
            "nodo_id: 48, id_padre: 13 -> salida: False\n",
            "nodo_id: 49, id_padre: 13 -> salida: False\n",
            "nodo_id: 50, id_padre: 13 -> salida: False\n",
            "nodo_id: 51, id_padre: 14 -> salida: False\n",
            "nodo_id: 52, id_padre: 15 -> salida: False\n",
            "nodo_id: 53, id_padre: 16 -> salida: False\n",
            "nodo_id: 54, id_padre: 16 -> salida: False\n",
            "nodo_id: 55, id_padre: 16 -> salida: False\n",
            "nodo_id: 56, id_padre: 17 -> salida: False\n",
            "nodo_id: 57, id_padre: 17 -> salida: False\n",
            "nodo_id: 58, id_padre: 17 -> salida: False\n",
            "nodo_id: 59, id_padre: 17 -> salida: False\n",
            "nodo_id: 60, id_padre: 17 -> salida: False\n",
            "nodo_id: 61, id_padre: 18 -> salida: False\n",
            "nodo_id: 62, id_padre: 18 -> salida: False\n",
            "nodo_id: 63, id_padre: 19 -> salida: False\n",
            "nodo_id: 64, id_padre: 19 -> salida: True\n",
            "nodo_id: 65, id_padre: 19 -> salida: False\n",
            "nodo_id: 66, id_padre: 19 -> salida: False\n",
            "nodo_id: 67, id_padre: 19 -> salida: False\n",
            "nodo_id: 68, id_padre: 20 -> salida: False\n",
            "nodo_id: 69, id_padre: 20 -> salida: False\n",
            "nodo_id: 70, id_padre: 20 -> salida: False\n",
            "nodo_id: 71, id_padre: 20 -> salida: False\n",
            "nodo_id: 72, id_padre: 20 -> salida: False\n",
            "nodo_id: 73, id_padre: 21 -> salida: False\n",
            "nodo_id: 74, id_padre: 22 -> salida: False\n",
            "nodo_id: 75, id_padre: 22 -> salida: False\n",
            "nodo_id: 76, id_padre: 23 -> salida: False\n",
            "nodo_id: 77, id_padre: 23 -> salida: False\n",
            "nodo_id: 78, id_padre: 23 -> salida: False\n",
            "nodo_id: 79, id_padre: 23 -> salida: False\n",
            "nodo_id: 80, id_padre: 23 -> salida: False\n",
            "nodo_id: 81, id_padre: 24 -> salida: False\n",
            "nodo_id: 82, id_padre: 24 -> salida: False\n",
            "nodo_id: 83, id_padre: 24 -> salida: False\n",
            "nodo_id: 84, id_padre: 24 -> salida: False\n",
            "nodo_id: 85, id_padre: 25 -> salida: False\n",
            "nodo_id: 86, id_padre: 25 -> salida: False\n",
            "nodo_id: 87, id_padre: 25 -> salida: False\n",
            "nodo_id: 88, id_padre: 26 -> salida: False\n",
            "nodo_id: 89, id_padre: 26 -> salida: False\n",
            "nodo_id: 90, id_padre: 26 -> salida: False\n",
            "nodo_id: 91, id_padre: 27 -> salida: False\n",
            "nodo_id: 92, id_padre: 27 -> salida: True\n",
            "nodo_id: 93, id_padre: 27 -> salida: False\n",
            "nodo_id: 94, id_padre: 27 -> salida: False\n",
            "nodo_id: 95, id_padre: 27 -> salida: False\n",
            "nodo_id: 96, id_padre: 28 -> salida: False\n",
            "nodo_id: 97, id_padre: 28 -> salida: True\n",
            "nodo_id: 98, id_padre: 28 -> salida: False\n",
            "nodo_id: 99, id_padre: 28 -> salida: False\n",
            "\n"
          ]
        }
      ]
    },
    {
      "cell_type": "code",
      "source": [
        "def resolver_mapa(habitacion_raiz, dict_pistas):\n",
        "    # Algoritmo basado en BFS\n",
        "    Q = deque()\n",
        "    Q.append(habitacion_raiz)\n",
        "\n",
        "    visitados = []\n",
        "\n",
        "    while len(Q) > 0:\n",
        "        p = Q.popleft()\n",
        "        if p.salida:\n",
        "            print(\"Salida encontrada!\")\n",
        "            print(f\"ID salida: {p.id_nodo}\")\n",
        "            return\n",
        "\n",
        "        if p.id_nodo not in visitados:\n",
        "\n",
        "            visitados.append(p.id_nodo)\n",
        "            if p in dict_pistas:\n",
        "                Q.extend(dict_pistas[p])\n",
        "            else:\n",
        "                for hijo in p.hijos.values():\n",
        "                    Q.append(hijo)"
      ],
      "metadata": {
        "id": "wCPm6psS2L0G"
      },
      "execution_count": 100,
      "outputs": []
    },
    {
      "cell_type": "code",
      "source": [
        "resolver_mapa(habitacion_raiz, dict_pistas)"
      ],
      "metadata": {
        "colab": {
          "base_uri": "https://localhost:8080/"
        },
        "id": "HjTqEJs_u0iN",
        "outputId": "22a489ac-d347-4861-c668-30da2085f71f"
      },
      "execution_count": 101,
      "outputs": [
        {
          "output_type": "stream",
          "name": "stdout",
          "text": [
            "Salida encontrada!\n",
            "ID salida: 33\n"
          ]
        }
      ]
    }
  ]
}