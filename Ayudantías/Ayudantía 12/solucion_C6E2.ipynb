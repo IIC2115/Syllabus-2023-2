{
  "nbformat": 4,
  "nbformat_minor": 0,
  "metadata": {
    "colab": {
      "provenance": []
    },
    "kernelspec": {
      "name": "python3",
      "display_name": "Python 3"
    },
    "language_info": {
      "name": "python"
    }
  },
  "cells": [
    {
      "cell_type": "code",
      "source": [
        "import sqlite3"
      ],
      "metadata": {
        "id": "WoKiuP81CrNo"
      },
      "execution_count": 1,
      "outputs": []
    },
    {
      "cell_type": "code",
      "source": [
        "cursor = conn.cursor()\n",
        "\n",
        "# Borrar todos los registros de la tabla de catálogo\n",
        "cursor.execute('DELETE FROM Catalogo')\n",
        "\n",
        "# Borrar todos los registros de la tabla de proveedores\n",
        "cursor.execute('DELETE FROM Proveedores')\n",
        "\n",
        "# Borrar todos los registros de la tabla de partes\n",
        "cursor.execute('DELETE FROM Partes')\n",
        "\n",
        "# Guardar cambios y cerrar la conexión\n",
        "conn.commit()"
      ],
      "metadata": {
        "id": "gJe9d8thDlan"
      },
      "execution_count": null,
      "outputs": []
    },
    {
      "cell_type": "code",
      "execution_count": 2,
      "metadata": {
        "id": "xLxPr_kiotuh"
      },
      "outputs": [],
      "source": [
        "# Conectar a la base de datos (o crearla si no existe)\n",
        "conn = sqlite3.connect('C6E2_solucion.db')\n",
        "cursor = conn.cursor()\n",
        "\n",
        "# Crear la tabla Proveedores\n",
        "cursor.execute('''\n",
        "    CREATE TABLE IF NOT EXISTS Proveedores (\n",
        "        id INTEGER PRIMARY KEY,\n",
        "        nombre STRING,\n",
        "        direccion STRING\n",
        "    )\n",
        "''')\n",
        "\n",
        "# Crear la tabla Partes\n",
        "cursor.execute('''\n",
        "    CREATE TABLE IF NOT EXISTS Partes (\n",
        "        id INTEGER PRIMARY KEY,\n",
        "        nombre STRING,\n",
        "        color STRING\n",
        "    )\n",
        "''')\n",
        "\n",
        "# Crear la tabla Catalogo\n",
        "cursor.execute('''\n",
        "    CREATE TABLE IF NOT EXISTS Catalogo (\n",
        "        id_proveedor INTEGER,\n",
        "        id_parte INTEGER,\n",
        "        valor REAL,\n",
        "        FOREIGN KEY (id_proveedor) REFERENCES Proveedores(id),\n",
        "        FOREIGN KEY (id_parte) REFERENCES Partes(id)\n",
        "    )\n",
        "''')\n",
        "\n",
        "# Guardar los cambios y cerrar la conexión\n",
        "conn.commit()\n"
      ]
    },
    {
      "cell_type": "code",
      "source": [
        "with open('catalogo.txt', 'r') as file:\n",
        "    lines_catalogo = file.readlines()\n",
        "with open('partes.txt', 'r') as file:\n",
        "    lines_partes = file.readlines()\n",
        "with open('proveedores.txt', 'r') as file:\n",
        "    lines_proveedores = file.readlines()"
      ],
      "metadata": {
        "id": "g3-kRK5DCvIG"
      },
      "execution_count": 3,
      "outputs": []
    },
    {
      "cell_type": "code",
      "source": [
        "for line in lines_proveedores:\n",
        "    data = line.strip().split(',')  # Suponiendo que los datos están separados por comas\n",
        "\n",
        "    # Insertar datos en la tabla Proveedores\n",
        "    cursor.execute('INSERT INTO Proveedores (id, nombre, direccion) VALUES (?, ?, ?)', (data[0], data[1], data[2]))\n",
        "for line in lines_partes:\n",
        "    data = line.strip().split(',')  # Suponiendo que los datos están separados por comas\n",
        "    # Insertar datos en la tabla Partes\n",
        "    cursor.execute('INSERT INTO Partes (id, nombre, color) VALUES (?, ?, ?)', (data[0], data[1], data[2]))\n",
        "for line in lines_catalogo:\n",
        "    data = line.strip().split(',')  # Suponiendo que los datos están separados por comas\n",
        "    # Insertar datos en la tabla Catalogo\n",
        "    cursor.execute('INSERT INTO Catalogo (id_proveedor, id_parte, valor) VALUES (?, ?, ?)', (data[0], data[1], data[2]))\n",
        "\n",
        "# Guardar los cambios y cerrar la conexión\n",
        "conn.commit()"
      ],
      "metadata": {
        "id": "Vs9NL-OHDKlO"
      },
      "execution_count": 4,
      "outputs": []
    },
    {
      "cell_type": "code",
      "source": [
        "def ejecutar_consulta(cursor, consulta):\n",
        "\n",
        "    # Ejecutar la consulta\n",
        "    cursor.execute(consulta)\n",
        "\n",
        "    # Obtener los resultados (si los hay)\n",
        "    resultados = cursor.fetchall()\n",
        "\n",
        "    # Devolver los resultados\n",
        "    return resultados"
      ],
      "metadata": {
        "id": "muMeM80hETTA"
      },
      "execution_count": 5,
      "outputs": []
    },
    {
      "cell_type": "code",
      "source": [
        "consulta_1 = '''\n",
        "    SELECT DISTINCT P.nombre\n",
        "    FROM Proveedores P\n",
        "    WHERE NOT EXISTS (\n",
        "        SELECT id\n",
        "        FROM Partes\n",
        "        WHERE color = 'Rojo'\n",
        "        EXCEPT\n",
        "        SELECT id_parte\n",
        "        FROM Catalogo C\n",
        "        WHERE C.id_proveedor = P.id\n",
        "    );\n",
        "'''\n",
        "resultados_1 = ejecutar_consulta(cursor, consulta_1)\n",
        "print(\"Resultados 1:\")\n",
        "for resultado in resultados_1:\n",
        "    print(resultado[0])"
      ],
      "metadata": {
        "colab": {
          "base_uri": "https://localhost:8080/"
        },
        "id": "wMS50WTAEa_T",
        "outputId": "5b1ddddd-9359-43a7-ae33-f74ee15c955d"
      },
      "execution_count": null,
      "outputs": [
        {
          "output_type": "stream",
          "name": "stdout",
          "text": [
            "Resultados 1:\n",
            "Acme Widget Suppliers\n",
            "Big Red Tool and Die\n",
            "Perfunctory Parts\n",
            "Alien Aircaft Inc.\n"
          ]
        }
      ]
    },
    {
      "cell_type": "code",
      "source": [
        "consulta_2 = '''\n",
        "    SELECT DISTINCT Pa.nombre\n",
        "    FROM Partes Pa\n",
        "    JOIN Catalogo C ON Pa.id = C.id_parte\n",
        "    JOIN Proveedores Pr ON C.id_proveedor = Pr.id\n",
        "    WHERE Pr.nombre LIKE '%ACME%'\n",
        "      AND NOT EXISTS (\n",
        "        SELECT id_proveedor\n",
        "        FROM Catalogo\n",
        "        WHERE id_parte = Pa.id\n",
        "          AND id_proveedor != Pr.id\n",
        "    );\n",
        "'''\n",
        "\n",
        "# Ejecutar la consulta 2\n",
        "resultados_2 = ejecutar_consulta(cursor, consulta_2)\n",
        "print(\"\\nResultados 2:\")\n",
        "for resultado in resultados_2:\n",
        "    print(resultado[0])"
      ],
      "metadata": {
        "colab": {
          "base_uri": "https://localhost:8080/"
        },
        "id": "pbMoaUQMEvgL",
        "outputId": "a175a0ec-cf8d-4f07-cd08-b40cb3f3033b"
      },
      "execution_count": null,
      "outputs": [
        {
          "output_type": "stream",
          "name": "stdout",
          "text": [
            "\n",
            "Resultados 2:\n",
            "Acme Widget Washer\n"
          ]
        }
      ]
    },
    {
      "cell_type": "code",
      "source": [
        "consulta_3 = '''\n",
        "    SELECT DISTINCT Pr.nombre\n",
        "    FROM Proveedores Pr\n",
        "    JOIN Catalogo C ON Pr.id = C.id_proveedor\n",
        "    WHERE C.valor > (\n",
        "        SELECT AVG(valor)\n",
        "        FROM Catalogo\n",
        "        WHERE id_parte = C.id_parte\n",
        "    );\n",
        "'''\n",
        "\n",
        "# Ejecutar la consulta 3\n",
        "resultados_3 = ejecutar_consulta(cursor, consulta_3)\n",
        "print(\"\\nResultados 3:\")\n",
        "for resultado in resultados_3:\n",
        "    print(resultado[0])"
      ],
      "metadata": {
        "colab": {
          "base_uri": "https://localhost:8080/"
        },
        "id": "xcWdgGNdEy4w",
        "outputId": "f74fd9f9-ef1c-449d-adfb-3813080d3f87"
      },
      "execution_count": null,
      "outputs": [
        {
          "output_type": "stream",
          "name": "stdout",
          "text": [
            "\n",
            "Resultados 3:\n",
            "Acme Widget Suppliers\n",
            "Big Red Tool and Die\n",
            "Perfunctory Parts\n"
          ]
        }
      ]
    },
    {
      "cell_type": "code",
      "source": [
        "consulta_4 = '''\n",
        "    SELECT Pr.nombre AS nombre_proveedor, Pa.nombre AS nombre_parte, MAX(C.valor) AS precio\n",
        "    FROM Proveedores Pr\n",
        "    JOIN Catalogo C ON Pr.id = C.id_proveedor\n",
        "    JOIN Partes Pa ON C.id_parte = Pa.id\n",
        "    WHERE Pa.color IN ('Green', 'Red')\n",
        "    GROUP BY Pr.id, Pa.id;\n",
        "'''\n",
        "\n",
        "# Ejecutar la consulta 4\n",
        "resultados_4 = ejecutar_consulta(cursor, consulta_4)\n",
        "print(\"\\nResultados 4:\")\n",
        "for resultado in resultados_4:\n",
        "    print(resultado[0], resultado[1], resultado[2])"
      ],
      "metadata": {
        "colab": {
          "base_uri": "https://localhost:8080/"
        },
        "id": "3Jsby6SCOEah",
        "outputId": "22e6a780-ba16-4342-c6aa-e6e4e15e90b1"
      },
      "execution_count": 8,
      "outputs": [
        {
          "output_type": "stream",
          "name": "stdout",
          "text": [
            "\n",
            "Resultados 4:\n",
            "Acme Widget Suppliers Acme Widget Washer 0.5\n",
            "Acme Widget Suppliers Fire Hydrant Cap 11.7\n",
            "Big Red Tool and Die Left Handed Bacon Stretcher Cover 16.5\n",
            "Big Red Tool and Die Acme Widget Washer 0.55\n",
            "Big Red Tool and Die Fire Hydrant Cap 7.95\n",
            "Perfunctory Parts Fire Hydrant Cap 12.5\n",
            "Perfunctory Parts 7 Segment Display 1.0\n"
          ]
        }
      ]
    },
    {
      "cell_type": "code",
      "source": [
        "conn.close()"
      ],
      "metadata": {
        "id": "0C0rnRLDDdo3"
      },
      "execution_count": null,
      "outputs": []
    }
  ]
}