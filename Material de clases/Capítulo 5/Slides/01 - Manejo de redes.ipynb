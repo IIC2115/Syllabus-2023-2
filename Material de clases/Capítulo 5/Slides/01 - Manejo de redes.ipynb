{
  "cells": [
    {
      "cell_type": "markdown",
      "metadata": {
        "id": "7HwdkXc23WwM"
      },
      "source": [
        "<p>\n",
        "<font size='5' face='Georgia, Arial'>IIC2115 - Programación como herramienta para la ingeniería</font><br>\n",
        "</p>"
      ]
    },
    {
      "cell_type": "markdown",
      "metadata": {
        "id": "-P1TtE_83wjn"
      },
      "source": [
        "(no es necesario instalar `networkx` en Colab)"
      ]
    },
    {
      "cell_type": "code",
      "execution_count": null,
      "metadata": {
        "id": "1Jpw3sip3WwY"
      },
      "outputs": [],
      "source": [
        "import networkx as nx\n",
        "import matplotlib.pyplot as plt"
      ]
    },
    {
      "cell_type": "code",
      "execution_count": null,
      "metadata": {
        "id": "XI4oH4tz3724"
      },
      "outputs": [],
      "source": [
        "plt.rcParams['figure.figsize'] = [15, 10]\n",
        "plt.rcParams.update({'font.size': 16})"
      ]
    },
    {
      "cell_type": "code",
      "execution_count": null,
      "metadata": {
        "id": "VSW-y_WQ3-59"
      },
      "outputs": [],
      "source": [
        "G = nx.Graph()"
      ]
    },
    {
      "cell_type": "code",
      "execution_count": null,
      "metadata": {
        "id": "vRncGETc3Wwd"
      },
      "outputs": [],
      "source": [
        "# Agregamos un solo nodo\n",
        "G.add_node(1)\n",
        "\n",
        "# Agregamos una lista de nodos\n",
        "G.add_nodes_from([2, 3])\n",
        "\n",
        "# Agregamos una lista de tuplas de nodos con atributos -> (nodo, dict de atributos)\n",
        "G.add_nodes_from([(4, {'nombre': 'Santiago'}),\n",
        "                  (5, {'nombre': 'Valparaíso'})])"
      ]
    },
    {
      "cell_type": "code",
      "execution_count": null,
      "metadata": {
        "id": "vP7hrAvI3Wwg"
      },
      "outputs": [],
      "source": [
        "# Agregamos un arco entre el nodo 1 y el nodo 2\n",
        "G.add_edge(1, 2)\n",
        "\n",
        "# Agregamos un arco entre el nodo 2 y 3 alamcenado en una tupla\n",
        "e = (2, 3)\n",
        "G.add_edge(*e) # <-- Asi desempaquetamos una tupla como inputs\n",
        "\n",
        "# Agregamos los arcos 2->4, 3->5 y 3->1 desde una lista\n",
        "G.add_edges_from([(2, 4), (3, 5), (3,1)])"
      ]
    },
    {
      "cell_type": "code",
      "execution_count": null,
      "metadata": {
        "colab": {
          "base_uri": "https://localhost:8080/",
          "height": 1000
        },
        "id": "0po_nmu_3Wwl",
        "outputId": "917084cc-f974-455d-d330-007a2c7774cc"
      },
      "outputs": [],
      "source": [
        "nx.draw(G, with_labels=True, font_weight='bold')"
      ]
    },
    {
      "cell_type": "markdown",
      "metadata": {
        "id": "J3qKlIX13Wwn"
      },
      "source": [
        "(para utilizar `OpenStreetMap` en Colab, es necesario instalarla antes con `pip`)"
      ]
    },
    {
      "cell_type": "code",
      "execution_count": null,
      "metadata": {
        "colab": {
          "base_uri": "https://localhost:8080/"
        },
        "id": "rMzJ_r_F3Wwp",
        "outputId": "fbff4faf-9668-442b-db42-4cf6d1d87fa2"
      },
      "outputs": [],
      "source": [
        "!pip install osmnx"
      ]
    },
    {
      "cell_type": "code",
      "execution_count": null,
      "metadata": {
        "id": "g_nkNz-I3Wwx"
      },
      "outputs": [],
      "source": [
        "import osmnx as ox"
      ]
    },
    {
      "cell_type": "code",
      "execution_count": null,
      "metadata": {
        "id": "Fb2VMe7I3Wwx"
      },
      "outputs": [],
      "source": [
        "mapa_macul = ox.graph.graph_from_place('Macul, Chile', network_type = 'all') # network_type -> \"all_private\", \"all\", \"bike\", \"drive\", \"drive_service\", \"walk\""
      ]
    },
    {
      "cell_type": "code",
      "execution_count": null,
      "metadata": {
        "colab": {
          "base_uri": "https://localhost:8080/",
          "height": 1000
        },
        "id": "Oc6d7pgN6E5U",
        "outputId": "023eacd2-6210-4c76-9616-2447ffbc3d3b"
      },
      "outputs": [],
      "source": [
        "ox.plot_graph(mapa_macul, figsize = (15, 15), bgcolor = 'w', node_color = 'red', edge_color = 'black', node_alpha = 0)"
      ]
    },
    {
      "cell_type": "markdown",
      "metadata": {
        "id": "WHGgf-TLE7BS"
      },
      "source": [
        "### Ejemplo 1: obtener la ruta que va desde los extremos nororiente al surponiente de la comuna de Macul"
      ]
    },
    {
      "cell_type": "markdown",
      "metadata": {
        "id": "gwu1oTzoiJZG"
      },
      "source": [
        "Obtenemos las coordenadas de algún lado, por ejemplo, de Google Maps"
      ]
    },
    {
      "cell_type": "code",
      "execution_count": null,
      "metadata": {
        "id": "TEsqgFWs3Ww0"
      },
      "outputs": [],
      "source": [
        "# valores obtenido de Google Maps, en orden x,y (long, lat)\n",
        "\n",
        "NO=(-70.577627, -33.470984)\n",
        "SP=(-70.613652, -33.507677)"
      ]
    },
    {
      "cell_type": "markdown",
      "metadata": {
        "id": "KMFpISvhiVqn"
      },
      "source": [
        "A partir de las coordnadas, obtenemos los nodos de la red más cercanos a ellas"
      ]
    },
    {
      "cell_type": "code",
      "execution_count": null,
      "metadata": {
        "id": "73p8ylwAAPrf"
      },
      "outputs": [],
      "source": [
        "orig_node = ox.distance.nearest_nodes(mapa_macul, NO[0], NO[1])\n",
        "dest_node = ox.distance.nearest_nodes(mapa_macul, SP[0], SP[1])"
      ]
    },
    {
      "cell_type": "markdown",
      "metadata": {
        "id": "9x2P1c2UifU9"
      },
      "source": [
        "A continuación obtenemos la ruta óptima y luego la ploteamos"
      ]
    },
    {
      "cell_type": "code",
      "execution_count": null,
      "metadata": {
        "colab": {
          "base_uri": "https://localhost:8080/",
          "height": 1000
        },
        "id": "6AFDl7933Ww2",
        "outputId": "bbb85be8-4ab1-4690-d283-7f0c285a54b7"
      },
      "outputs": [],
      "source": [
        "ruta_minima = nx.shortest_path(mapa_macul, orig_node, dest_node, weight = 'length')\n",
        "ox.plot_graph_route(mapa_macul, ruta_minima, node_size = 5, figsize=(15,15), bgcolor = 'w', node_color = 'blue', edge_color = 'black', route_linewidth=10)"
      ]
    },
    {
      "cell_type": "markdown",
      "metadata": {
        "id": "Y10Bwro2imo9"
      },
      "source": [
        "Finalmente, obtenemos el largo de la ruta, para tener una referencia"
      ]
    },
    {
      "cell_type": "code",
      "execution_count": null,
      "metadata": {
        "colab": {
          "base_uri": "https://localhost:8080/"
        },
        "id": "ykulYP2wFx5N",
        "outputId": "61ce37a4-48f6-4a8d-cfc5-69e4c72baf17"
      },
      "outputs": [],
      "source": [
        "largo_optimo = nx.shortest_path_length(mapa_macul, orig_node, dest_node, weight = 'length')\n",
        "print(f'El largo de la ruta óptima es {largo_optimo} metros (unidad por defecto en osmnx).')"
      ]
    },
    {
      "cell_type": "markdown",
      "metadata": {
        "id": "9RnScyavHoX7"
      },
      "source": [
        "### Ejemplo 2: obtener la ruta que va desde los extremos nororiente al surponiente de la comuna de Macul, pasando por el centroide de esta."
      ]
    },
    {
      "cell_type": "markdown",
      "metadata": {
        "id": "sdgVeQQfiy3i"
      },
      "source": [
        "Si los datos geográficos aún están comprimidos, este es el momento de descomprimirlos y cargarlos"
      ]
    },
    {
      "cell_type": "code",
      "execution_count": null,
      "metadata": {
        "colab": {
          "base_uri": "https://localhost:8080/"
        },
        "id": "BnQ1LPGhEkgL",
        "outputId": "3d031312-e88b-4c95-d074-f280c2d3b9a1"
      },
      "outputs": [],
      "source": [
        "!unzip data.zip"
      ]
    },
    {
      "cell_type": "code",
      "execution_count": null,
      "metadata": {
        "id": "dpowS5nSEt_J"
      },
      "outputs": [],
      "source": [
        "import geopandas as gpd"
      ]
    },
    {
      "cell_type": "code",
      "execution_count": null,
      "metadata": {
        "id": "4gcCsEolF35N"
      },
      "outputs": [],
      "source": [
        "distritos = gpd.read_file('data/Distritos Censales/Distritos Censales RM.shp')\n",
        "area_urbana = gpd.read_file('data/Areas Urbanas/areas_urbanas.shp')"
      ]
    },
    {
      "cell_type": "markdown",
      "metadata": {
        "id": "xS7oTjY5jEcV"
      },
      "source": [
        "Similar a como lo hicimos anteriormente, interesectamos los `GeoDataFrame` para obtener el shape de los distritos urbanos"
      ]
    },
    {
      "cell_type": "code",
      "execution_count": null,
      "metadata": {
        "id": "6uf9VwHtFWyF"
      },
      "outputs": [],
      "source": [
        "santiago_urbano = area_urbana.loc[area_urbana['NOMBRE']=='Santiago']\n",
        "distritos_urbanos = gpd.overlay(distritos, santiago_urbano, how='intersection')"
      ]
    },
    {
      "cell_type": "markdown",
      "metadata": {
        "id": "QvyoxogujQHE"
      },
      "source": [
        "Para obtener las comuas, agrupamos los distritos por el nombre de la comuna y luego _disolvemos_ su geometría interna, manteniendo solo sus límites"
      ]
    },
    {
      "cell_type": "code",
      "execution_count": null,
      "metadata": {
        "id": "pTleU1EpFsTj"
      },
      "outputs": [],
      "source": [
        "comunas_urbanas = distritos_urbanos.dissolve(by=\"NOM_COM\")"
      ]
    },
    {
      "cell_type": "markdown",
      "metadata": {
        "id": "-Mm7UCuojhin"
      },
      "source": [
        "Luego, obtener el centroide de cada comuna, basado en su geometría"
      ]
    },
    {
      "cell_type": "code",
      "execution_count": null,
      "metadata": {
        "colab": {
          "base_uri": "https://localhost:8080/",
          "height": 353
        },
        "id": "4EE6Km7_F-SP",
        "outputId": "bb509f80-d506-4d54-9728-4b57199af951"
      },
      "outputs": [],
      "source": [
        "comunas_urbanas[\"Centroides\"] = comunas_urbanas.geometry.centroid\n",
        "comunas_urbanas.head()"
      ]
    },
    {
      "cell_type": "markdown",
      "metadata": {
        "id": "bpkOqVGXjrQR"
      },
      "source": [
        "A continuación, graficamos todo para ver que las comunas y sus centroides tengan sentido"
      ]
    },
    {
      "cell_type": "code",
      "execution_count": null,
      "metadata": {
        "colab": {
          "base_uri": "https://localhost:8080/",
          "height": 1000
        },
        "id": "u3svSGC-IJGe",
        "outputId": "91a9329b-0b46-4cd0-e58c-3d22e49f454e"
      },
      "outputs": [],
      "source": [
        "ax = comunas_urbanas.plot(figsize=(15,15))\n",
        "comunas_urbanas['Centroides'].plot(ax=ax, figsize = (15,15), color = 'red', markersize = 5)"
      ]
    },
    {
      "cell_type": "markdown",
      "metadata": {
        "id": "onPs9rA5H_0T"
      },
      "source": [
        "¿Necesitamos hacer algo antes de usar estos centroides?"
      ]
    },
    {
      "cell_type": "code",
      "execution_count": null,
      "metadata": {
        "colab": {
          "base_uri": "https://localhost:8080/"
        },
        "id": "T2Qc3n6eIwWu",
        "outputId": "0ed668da-3f3d-4b9c-c5b9-bf18eac9c7b9"
      },
      "outputs": [],
      "source": [
        "comunas_urbanas.crs"
      ]
    },
    {
      "cell_type": "markdown",
      "metadata": {
        "id": "zead3UAIkD8M"
      },
      "source": [
        "Dado que `osmnx` utiliza un esquema de (long,lat), debemos hacer una transformación del crs"
      ]
    },
    {
      "cell_type": "code",
      "execution_count": null,
      "metadata": {
        "colab": {
          "base_uri": "https://localhost:8080/",
          "height": 158
        },
        "id": "rPYPzR9wI3I6",
        "outputId": "38b12d8e-abfd-4dba-e776-5105e0900d97"
      },
      "outputs": [],
      "source": [
        "comunas_urbanas.to_crs(\"EPSG:4326\", inplace=True)\n",
        "comunas_urbanas.head(1)"
      ]
    },
    {
      "cell_type": "markdown",
      "metadata": {
        "id": "RPJ0MfCTkdFq"
      },
      "source": [
        "Dado que el centroide no es parte de la geometría del `GeoDataFrame`, debemos convertirlo por separado"
      ]
    },
    {
      "cell_type": "code",
      "execution_count": null,
      "metadata": {
        "colab": {
          "base_uri": "https://localhost:8080/",
          "height": 1000
        },
        "id": "5oCDwweDGmwE",
        "outputId": "69c5be08-b91f-43a5-9fb4-15c3d182981b"
      },
      "outputs": [],
      "source": [
        "comunas_urbanas[\"Centroides\"] = comunas_urbanas[\"Centroides\"].to_crs(\"EPSG:4326\")\n",
        "comunas_urbanas"
      ]
    },
    {
      "cell_type": "markdown",
      "metadata": {
        "id": "5Zn_zp-rkxT8"
      },
      "source": [
        "Teniendo ya la toda la información, extraemos el centroide de Macul y construimos la dos rutas utilizando los mismo métodos que antes"
      ]
    },
    {
      "cell_type": "code",
      "execution_count": null,
      "metadata": {
        "id": "9JmDyIEcHhMk"
      },
      "outputs": [],
      "source": [
        "macul = comunas_urbanas.loc['Macul']\n",
        "centroide_macul = ox.distance.nearest_nodes(mapa_macul, macul['Centroides'].x, macul['Centroides'].y)"
      ]
    },
    {
      "cell_type": "code",
      "execution_count": null,
      "metadata": {
        "id": "8mASmQzhb0Rh"
      },
      "outputs": [],
      "source": [
        "ruta_NO_centroide = nx.shortest_path(mapa_macul, orig_node, centroide_macul, weight = 'length')\n",
        "ruta_centroide_SP = nx.shortest_path(mapa_macul, centroide_macul, dest_node, weight = 'length')"
      ]
    },
    {
      "cell_type": "markdown",
      "metadata": {
        "id": "OWIiUKVtlJkz"
      },
      "source": [
        "Finalmente, graficamos ambas rutas en un mapa de forma simultánea"
      ]
    },
    {
      "cell_type": "code",
      "execution_count": null,
      "metadata": {
        "colab": {
          "base_uri": "https://localhost:8080/",
          "height": 1000
        },
        "id": "CyzuNpQFZuU_",
        "outputId": "73979e1e-2644-4fe7-91da-24ef3808f6c6"
      },
      "outputs": [],
      "source": [
        "ruta_final = [ruta_NO_centroide, ruta_centroide_SP]\n",
        "ox.plot_graph_routes(mapa_macul, ruta_final, node_size = 5, figsize=(15,15), route_colors=[\"r\", \"g\"], bgcolor = 'w', node_color = 'blue', edge_color = 'black', route_linewidths=10)"
      ]
    },
    {
      "cell_type": "markdown",
      "metadata": {
        "id": "24fvG24slR1p"
      },
      "source": [
        "Al obtener los largos, podemos notar que la ruta del centroide es algo más larga que la óptima"
      ]
    },
    {
      "cell_type": "code",
      "execution_count": null,
      "metadata": {
        "colab": {
          "base_uri": "https://localhost:8080/"
        },
        "id": "WferObK1dw34",
        "outputId": "2aadff0d-2f9c-46eb-89bb-fd829527c8d3"
      },
      "outputs": [],
      "source": [
        "largo_ruta_centroide = nx.shortest_path_length(mapa_macul, orig_node, centroide_macul, weight = 'length') + \\\n",
        "                        nx.shortest_path_length(mapa_macul, centroide_macul, dest_node, weight = 'length')\n",
        "print(f'El largo de la ruta del centroide es {largo_ruta_centroide} metros y el de la ruta óptima es {largo_optimo} metros.')"
      ]
    }
  ],
  "metadata": {
    "colab": {
      "provenance": []
    },
    "interpreter": {
      "hash": "432ee9dc30be07d38c29275a8ba4708057635a20469ddd67f0dfa942a950c372"
    },
    "kernelspec": {
      "display_name": "Python 3.8.6 64-bit",
      "name": "python3"
    },
    "language_info": {
      "name": "python",
      "version": ""
    }
  },
  "nbformat": 4,
  "nbformat_minor": 0
}
