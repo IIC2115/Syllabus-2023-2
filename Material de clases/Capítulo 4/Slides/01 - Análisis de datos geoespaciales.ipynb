{
  "cells": [
    {
      "cell_type": "markdown",
      "id": "pressing-doctor",
      "metadata": {
        "id": "pressing-doctor"
      },
      "source": [
        "# Ejemplos GeoPandas C3a"
      ]
    },
    {
      "cell_type": "markdown",
      "id": "excessive-objective",
      "metadata": {
        "id": "excessive-objective"
      },
      "source": [
        "## Carga de librerías y datos"
      ]
    },
    {
      "cell_type": "code",
      "execution_count": null,
      "id": "ignored-cylinder",
      "metadata": {
        "id": "ignored-cylinder"
      },
      "outputs": [],
      "source": [
        "import pandas as pd\n",
        "import geopandas as gpd"
      ]
    },
    {
      "cell_type": "code",
      "source": [
        "!unzip data.zip"
      ],
      "metadata": {
        "id": "TJT6DiAaEs0J"
      },
      "id": "TJT6DiAaEs0J",
      "execution_count": null,
      "outputs": []
    },
    {
      "cell_type": "markdown",
      "id": "unusual-tuner",
      "metadata": {
        "id": "unusual-tuner"
      },
      "source": [
        "## Ejemplo 1: graficar en un mapa los distritos censales (o las partes de ellos) ubicados en el área urbana de la Región Metropolitana, utilizando una escala de colores basada en el costo monetario en pesos que tendría el edificarlos completamente con viviendas de 1 piso."
      ]
    },
    {
      "cell_type": "markdown",
      "id": "industrial-excess",
      "metadata": {
        "id": "industrial-excess"
      },
      "source": [
        "### Cargamos los archivos .shp correspondientes (shapefiles), utilizando la función `read_file` de GeoPandas"
      ]
    },
    {
      "cell_type": "code",
      "execution_count": null,
      "id": "fitted-berkeley",
      "metadata": {
        "id": "fitted-berkeley"
      },
      "outputs": [],
      "source": [
        "distritos = gpd.read_file('data/Distritos Censales/Distritos Censales RM.shp')\n",
        "chile_urbano = gpd.read_file('data/Areas Urbanas/areas_urbanas.shp')"
      ]
    },
    {
      "cell_type": "markdown",
      "id": "automated-transcription",
      "metadata": {
        "id": "automated-transcription"
      },
      "source": [
        "### Revisamos los datos"
      ]
    },
    {
      "cell_type": "code",
      "execution_count": null,
      "id": "applied-nerve",
      "metadata": {
        "id": "applied-nerve"
      },
      "outputs": [],
      "source": [
        "distritos.head()"
      ]
    },
    {
      "cell_type": "code",
      "source": [
        "distritos['NOM_PROV'].value_counts()"
      ],
      "metadata": {
        "id": "B9GPZzaRMT2d"
      },
      "id": "B9GPZzaRMT2d",
      "execution_count": null,
      "outputs": []
    },
    {
      "cell_type": "code",
      "execution_count": null,
      "id": "scientific-tanzania",
      "metadata": {
        "id": "scientific-tanzania"
      },
      "outputs": [],
      "source": [
        "distritos.describe()"
      ]
    },
    {
      "cell_type": "code",
      "source": [
        "chile_urbano.head()"
      ],
      "metadata": {
        "id": "hwtE8o8vIzPg"
      },
      "id": "hwtE8o8vIzPg",
      "execution_count": null,
      "outputs": []
    },
    {
      "cell_type": "code",
      "source": [
        "chile_urbano.TIPO_AREA.value_counts()"
      ],
      "metadata": {
        "id": "1OTD7AMLI-LH"
      },
      "id": "1OTD7AMLI-LH",
      "execution_count": null,
      "outputs": []
    },
    {
      "cell_type": "markdown",
      "id": "behavioral-handy",
      "metadata": {
        "id": "behavioral-handy"
      },
      "source": [
        "### Graficamos los GeoDataFrame para visualizar los datos"
      ]
    },
    {
      "cell_type": "code",
      "execution_count": null,
      "id": "charged-stationery",
      "metadata": {
        "id": "charged-stationery"
      },
      "outputs": [],
      "source": [
        "distritos.plot(figsize=(10,10))\n"
      ]
    },
    {
      "cell_type": "code",
      "execution_count": null,
      "id": "unsigned-lunch",
      "metadata": {
        "id": "unsigned-lunch"
      },
      "outputs": [],
      "source": [
        "santiago_urbano = chile_urbano.loc[chile_urbano['NOMBRE']=='Santiago']\n",
        "santiago_urbano.plot(figsize = (10,10))"
      ]
    },
    {
      "cell_type": "markdown",
      "source": [
        "### Combinamos los GeoDataFrame"
      ],
      "metadata": {
        "id": "BphBZQ0MRLEV"
      },
      "id": "BphBZQ0MRLEV"
    },
    {
      "cell_type": "markdown",
      "id": "progressive-bottle",
      "metadata": {
        "id": "progressive-bottle"
      },
      "source": [
        "Antes de combinar ambos archivos, tenemos que revisar sus proyecciones"
      ]
    },
    {
      "cell_type": "code",
      "execution_count": null,
      "id": "olive-pension",
      "metadata": {
        "id": "olive-pension"
      },
      "outputs": [],
      "source": [
        "distritos.crs"
      ]
    },
    {
      "cell_type": "code",
      "execution_count": null,
      "id": "alternate-northwest",
      "metadata": {
        "id": "alternate-northwest"
      },
      "outputs": [],
      "source": [
        "santiago_urbano.crs"
      ]
    },
    {
      "cell_type": "markdown",
      "id": "every-joshua",
      "metadata": {
        "id": "every-joshua"
      },
      "source": [
        "En este caso ambos tienen la misma proyeccion, por lo tanto creamos los distritos urbanos (con la intersección)"
      ]
    },
    {
      "cell_type": "code",
      "execution_count": null,
      "id": "electric-anger",
      "metadata": {
        "id": "electric-anger"
      },
      "outputs": [],
      "source": [
        "distritos_urbanos = gpd.overlay(santiago_urbano, distritos, how='intersection')"
      ]
    },
    {
      "cell_type": "code",
      "execution_count": null,
      "id": "emerging-function",
      "metadata": {
        "id": "emerging-function"
      },
      "outputs": [],
      "source": [
        "distritos_urbanos.plot(figsize=(10,10))"
      ]
    },
    {
      "cell_type": "markdown",
      "id": "moderate-mouse",
      "metadata": {
        "id": "moderate-mouse"
      },
      "source": [
        "### Dado que ya obtuvimos los distritos urbanos, podemos construir la informacion solicitada"
      ]
    },
    {
      "cell_type": "code",
      "execution_count": null,
      "id": "coastal-anxiety",
      "metadata": {
        "id": "coastal-anxiety"
      },
      "outputs": [],
      "source": [
        "pd.set_option(\"display.max_rows\", None, \"display.max_columns\", None)\n",
        "distritos_urbanos.head(10)"
      ]
    },
    {
      "cell_type": "markdown",
      "id": "daily-microphone",
      "metadata": {
        "id": "daily-microphone"
      },
      "source": [
        "Al revisar los datos como tabla, vemos que se tiene el precio del metro cuadrado en UF. Como necesitamos el valor en pesos, multiplicamos la columna por el valor de la UF en pesos (valor al 16/10/2023 => 36.265,46). Dado que se pide el precio de edificar con construcciones de 1 piso, el paso final solo implica multiplicar por la columna que indica el área."
      ]
    },
    {
      "cell_type": "code",
      "execution_count": null,
      "id": "continent-prize",
      "metadata": {
        "id": "continent-prize"
      },
      "outputs": [],
      "source": [
        "distritos_urbanos['Precio']=36265.46*distritos_urbanos['Area']*distritos_urbanos['1_UF_M2']"
      ]
    },
    {
      "cell_type": "markdown",
      "id": "finished-hometown",
      "metadata": {
        "id": "finished-hometown"
      },
      "source": [
        "Revisamos..."
      ]
    },
    {
      "cell_type": "code",
      "execution_count": null,
      "id": "combined-gibraltar",
      "metadata": {
        "id": "combined-gibraltar"
      },
      "outputs": [],
      "source": [
        "distritos_urbanos.head(10)"
      ]
    },
    {
      "cell_type": "markdown",
      "id": "pursuant-rachel",
      "metadata": {
        "id": "pursuant-rachel"
      },
      "source": [
        "Finalmente realizamos el plot, utilizando esta nueva columna para la escala de colores"
      ]
    },
    {
      "cell_type": "code",
      "execution_count": null,
      "id": "elder-casino",
      "metadata": {
        "id": "elder-casino"
      },
      "outputs": [],
      "source": [
        "distritos_urbanos.plot(figsize=(10,10),column='Precio', legend=True)"
      ]
    },
    {
      "cell_type": "markdown",
      "id": "necessary-recipe",
      "metadata": {
        "id": "necessary-recipe"
      },
      "source": [
        "## Ejemplo 2: construir un ranking de los 5 distritos censales más poblados, que se encuentren a menos de 100 metros de una estación de metro."
      ]
    },
    {
      "cell_type": "markdown",
      "id": "fleet-sharp",
      "metadata": {
        "id": "fleet-sharp"
      },
      "source": [
        "### Cargamos el shapefile de estaciones de metro y revisamos sus datos"
      ]
    },
    {
      "cell_type": "code",
      "execution_count": null,
      "id": "adaptive-feeling",
      "metadata": {
        "id": "adaptive-feeling"
      },
      "outputs": [],
      "source": [
        "estaciones_metro = gpd.read_file('data/Metro 2020/Estaciones_2020/Estaciones_2020.shp')"
      ]
    },
    {
      "cell_type": "code",
      "execution_count": null,
      "id": "lasting-breakfast",
      "metadata": {
        "id": "lasting-breakfast"
      },
      "outputs": [],
      "source": [
        "estaciones_metro.head()"
      ]
    },
    {
      "cell_type": "code",
      "execution_count": null,
      "id": "hybrid-eclipse",
      "metadata": {
        "id": "hybrid-eclipse"
      },
      "outputs": [],
      "source": [
        "estaciones_metro.plot(figsize=(10,10))"
      ]
    },
    {
      "cell_type": "markdown",
      "id": "separated-bulgaria",
      "metadata": {
        "id": "separated-bulgaria"
      },
      "source": [
        "### Como siempre, revisamos la proyección antes de aplicar operaciones geométricas"
      ]
    },
    {
      "cell_type": "code",
      "execution_count": null,
      "id": "sharing-poetry",
      "metadata": {
        "id": "sharing-poetry"
      },
      "outputs": [],
      "source": [
        "estaciones_metro.crs"
      ]
    },
    {
      "cell_type": "markdown",
      "id": "absolute-physiology",
      "metadata": {
        "id": "absolute-physiology"
      },
      "source": [
        "### Para delimitar un área de 100 metros a la redonda de las estaciones, creamos un _buffer_ de 100 metros, el cual posteriormente intersectaremos con los distritos."
      ]
    },
    {
      "cell_type": "code",
      "execution_count": null,
      "id": "starting-inventory",
      "metadata": {
        "id": "starting-inventory"
      },
      "outputs": [],
      "source": [
        "buffer_metro = estaciones_metro.copy()\n",
        "geometria_buffer = buffer_metro.buffer(100)\n",
        "geometria_buffer.head()"
      ]
    },
    {
      "cell_type": "code",
      "source": [
        "geometria_buffer.iloc[0]"
      ],
      "metadata": {
        "id": "p-NzMlE4URjg"
      },
      "id": "p-NzMlE4URjg",
      "execution_count": null,
      "outputs": []
    },
    {
      "cell_type": "code",
      "source": [
        "buffer_metro.geometry = geometria_buffer\n",
        "buffer_metro.head()"
      ],
      "metadata": {
        "id": "adJy_k28UC6d"
      },
      "id": "adJy_k28UC6d",
      "execution_count": null,
      "outputs": []
    },
    {
      "cell_type": "markdown",
      "id": "completed-cyprus",
      "metadata": {
        "id": "completed-cyprus"
      },
      "source": [
        "### A continuación, intersectamos los distritos con el buffer, esta vez utilizando `sjoin` en vez de `overlay`, ya que no queremos generar nueva geometría, solo filtrar distritos"
      ]
    },
    {
      "cell_type": "code",
      "execution_count": null,
      "id": "registered-minneapolis",
      "metadata": {
        "id": "registered-minneapolis"
      },
      "outputs": [],
      "source": [
        "distritos_metro = gpd.sjoin(distritos, buffer_metro, predicate='intersects')"
      ]
    },
    {
      "cell_type": "markdown",
      "source": [
        "¿Qué implica el resultado de la siguiente instrucción?"
      ],
      "metadata": {
        "id": "oT4hTyNgXQFQ"
      },
      "id": "oT4hTyNgXQFQ"
    },
    {
      "cell_type": "code",
      "source": [
        "distritos_metro['CODIGO'].value_counts().head()"
      ],
      "metadata": {
        "id": "PsQYUz-FW6XM"
      },
      "id": "PsQYUz-FW6XM",
      "execution_count": null,
      "outputs": []
    },
    {
      "cell_type": "markdown",
      "source": [
        "Corregimos el problema"
      ],
      "metadata": {
        "id": "D_J8XTFSXb6N"
      },
      "id": "D_J8XTFSXb6N"
    },
    {
      "cell_type": "code",
      "execution_count": null,
      "id": "sought-bicycle",
      "metadata": {
        "id": "sought-bicycle"
      },
      "outputs": [],
      "source": [
        "distritos_metro = distritos_metro.drop_duplicates(subset=['CODIGO'])\n",
        "distritos_metro['CODIGO'].value_counts().head()"
      ]
    },
    {
      "cell_type": "code",
      "execution_count": null,
      "id": "brief-feature",
      "metadata": {
        "id": "brief-feature"
      },
      "outputs": [],
      "source": [
        "distritos_metro.describe()"
      ]
    },
    {
      "cell_type": "markdown",
      "id": "stable-password",
      "metadata": {
        "id": "stable-password"
      },
      "source": [
        "### Finalmente, para conocer la poblacion por distrito, tan solo se tiene que multiplicar la densidad por el área (no es relevante si están o no en la misma escala, ya que solo queremos un ranking)"
      ]
    },
    {
      "cell_type": "code",
      "execution_count": null,
      "id": "considered-bernard",
      "metadata": {
        "id": "considered-bernard"
      },
      "outputs": [],
      "source": [
        "poblacion_distrito = distritos_metro['Area']*distritos_metro['Densidad']\n",
        "distritos_metro['Poblacion'] = poblacion_distrito\n",
        "distritos_metro.head()"
      ]
    },
    {
      "cell_type": "code",
      "execution_count": null,
      "id": "dedicated-queens",
      "metadata": {
        "id": "dedicated-queens"
      },
      "outputs": [],
      "source": [
        "distritos_metro_ranking = distritos_metro.sort_values(by=['Poblacion'], ascending=False)\n",
        "distritos_metro_ranking.head()"
      ]
    },
    {
      "cell_type": "code",
      "execution_count": null,
      "id": "endless-heavy",
      "metadata": {
        "id": "endless-heavy"
      },
      "outputs": [],
      "source": [
        "ax = distritos_metro.plot(figsize = (10,10), column = 'Poblacion', edgecolor = 'black', linewidth = 0.5,legend = True)\n",
        "ax1 = buffer_metro.plot(ax=ax, alpha = 0.5, color = 'red')"
      ]
    }
  ],
  "metadata": {
    "kernelspec": {
      "display_name": "Python 3",
      "language": "python",
      "name": "python3"
    },
    "language_info": {
      "codemirror_mode": {
        "name": "ipython",
        "version": 3
      },
      "file_extension": ".py",
      "mimetype": "text/x-python",
      "name": "python",
      "nbconvert_exporter": "python",
      "pygments_lexer": "ipython3",
      "version": "3.9.7"
    },
    "colab": {
      "provenance": []
    }
  },
  "nbformat": 4,
  "nbformat_minor": 5
}