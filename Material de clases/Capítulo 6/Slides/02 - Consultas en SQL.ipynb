{
  "cells": [
    {
      "cell_type": "markdown",
      "metadata": {
        "id": "m3jCPG0XIBZ8"
      },
      "source": [
        "## Ejemplos C4a\n",
        "\n",
        "Considere la base de datos contenida en el archivo `data.db`, formada por las tablas `Flights`, `Aircraft`, `Employees` y `Certified`, que fueron creadas utilizando las siguientes sentencias en SQL:\n",
        "* `CREATE TABLE Flights(flno INTEGER PRIMARY KEY, origin TEXT, destination TEXT, distance INTEGER, departs DATE, arrives DATE, price REAL)`\n",
        "* `CREATE TABLE Aircraft(aid INTEGER PRIMARY KEY, aname TEXT, cruisingrange INTEGER)`\n",
        "* `CREATE TABLE Employees(eid INTEGER PRIMARY KEY, ename TEXT, salary REAL)`\n",
        "* `CREATE TABLE Certified(eid INTEGER, aid INTEGER, PRIMARY KEY(eid,aid), FOREIGN KEY(eid) REFERENCES employees, FOREIGN KEY(aid) REFERENCES aircraft)`\n",
        "\n",
        "\n",
        "Considere que la tabla `Employees` describe tanto a pilotos como a otro tipo de trabajador, que cada piloto está certificado para volar al menos un avión, y que solo los pilotos están certificados para volar.\n",
        "\n",
        "En base a esto, y asumiendo que las tablas ya están correctamente pobladas, escriba las consultas SQL para responder a las preguntas que se indican a continuación. Considere que cada pregunta debe ser respondida utilizando una única consulta en SQL.\n",
        "\n",
        "- Encuentre los nombres de los pilotos certificados para volar algún avión Boeing.\n",
        "- Encuentre los nombres de los pilotos que están certificados para volar aviones con autonomía de más de 1000 millas.\n",
        "- Por cada piloto que está certificado para volar más de tres aviones, encuentre el _id_ y la autonomía del avión con máxima autonomía para el que está certificado.\n",
        "- Encuentre los _id_ de los aviones que pueden ser usados en rutas de Los Ángeles a Chicago.\n",
        "- Encuentre los nombres de los pilotos cuyo sueldo es menor que el precio del vuelo más barato de Los Ángeles a Honolulu.\n",
        "- Encuentre los nombres de los aviones cuyos pilotos certificados tienen todos sueldos mayores a US$ 80.000."
      ]
    },
    {
      "cell_type": "markdown",
      "metadata": {
        "id": "OoA9cUWaIBaI"
      },
      "source": [
        "### Exploración de los datos\n",
        "Antes de comenzar a escribir las consultas, revisaremos el contenido de cada tabla:"
      ]
    },
    {
      "cell_type": "code",
      "execution_count": null,
      "metadata": {
        "id": "kYDuLFn4IBaJ"
      },
      "outputs": [],
      "source": [
        "import sqlite3"
      ]
    },
    {
      "cell_type": "code",
      "execution_count": null,
      "metadata": {
        "id": "JlArVlpWIBaM"
      },
      "outputs": [],
      "source": [
        "connection = sqlite3.connect('data.db')\n",
        "cursor = connection.cursor()"
      ]
    },
    {
      "cell_type": "code",
      "execution_count": null,
      "metadata": {
        "id": "izmmzIBPIBaO"
      },
      "outputs": [],
      "source": [
        "sql = \"SELECT * FROM Flights\"\n",
        "cursor.execute(sql)\n",
        "for r in cursor:\n",
        "    print(r)"
      ]
    },
    {
      "cell_type": "code",
      "execution_count": null,
      "metadata": {
        "id": "G1fbjFAaIBaQ"
      },
      "outputs": [],
      "source": [
        "sql = \"SELECT * FROM Aircraft\"\n",
        "cursor.execute(sql)\n",
        "for r in cursor:\n",
        "    print(r)"
      ]
    },
    {
      "cell_type": "code",
      "execution_count": null,
      "metadata": {
        "id": "VzY7vEziIBaR"
      },
      "outputs": [],
      "source": [
        "sql = \"SELECT * FROM Employees\"\n",
        "cursor.execute(sql)\n",
        "for r in cursor:\n",
        "    print(r)"
      ]
    },
    {
      "cell_type": "code",
      "execution_count": null,
      "metadata": {
        "id": "7orBNx5NIBaT"
      },
      "outputs": [],
      "source": [
        "sql = \"SELECT * FROM Certified\"\n",
        "cursor.execute(sql)\n",
        "for r in cursor:\n",
        "    print(r)"
      ]
    },
    {
      "cell_type": "code",
      "execution_count": null,
      "metadata": {
        "id": "4dGwceAeIBaV"
      },
      "outputs": [],
      "source": [
        "connection.close()"
      ]
    },
    {
      "cell_type": "markdown",
      "metadata": {
        "id": "iktAkE5eIBaW"
      },
      "source": [
        "### Consultas"
      ]
    },
    {
      "cell_type": "code",
      "execution_count": null,
      "metadata": {
        "id": "jOcpsOvlIBaX"
      },
      "outputs": [],
      "source": [
        "# Encuentre los nombres de los pilotos certificados para volar algún avión Boeing.\n",
        "\n",
        "connection = sqlite3.connect('data.db')\n",
        "cursor = connection.cursor()\n",
        "cursor.execute(\"SELECT DISTINCT E.ename \\\n",
        "                FROM Employees E, Certified C, Aircraft A \\\n",
        "                WHERE E.eid = C.eid AND C.aid = A.aid AND A.aname LIKE '%Boeing%'\")\n",
        "for r in cursor:\n",
        "    print(r[0])\n",
        "connection.close()"
      ]
    },
    {
      "cell_type": "code",
      "execution_count": null,
      "metadata": {
        "id": "QZq-E-LeIBaZ"
      },
      "outputs": [],
      "source": [
        "# Encuentre los nombres de los pilotos que están certificados para volar aviones con autonomía de más de 1000 millas.\n",
        "\n",
        "connection = sqlite3.connect('data.db')\n",
        "cursor = connection.cursor()\n",
        "cursor.execute('SELECT DISTINCT E.ename \\\n",
        "                FROM Employees E, Certified C, Aircraft A \\\n",
        "                WHERE C.aid = A.aid AND E.eid = C.eid AND A.cruisingrange > 1000')\n",
        "for r in cursor:\n",
        "    print(r[0])\n",
        "connection.close()"
      ]
    },
    {
      "cell_type": "code",
      "execution_count": null,
      "metadata": {
        "id": "5Xr7_l-dIBaa"
      },
      "outputs": [],
      "source": [
        "# Encuentre los nombres de los pilotos que están certificados para volar SOLO aviones con autonomía de más de 1000 millas.\n",
        "\n",
        "connection = sqlite3.connect('data.db')\n",
        "cursor = connection.cursor()\n",
        "cursor.execute('SELECT E.ename \\\n",
        "                FROM Employees E, Certified C, Aircraft A \\\n",
        "                WHERE C.aid = A.aid AND E.eid = C.eid \\\n",
        "                GROUP BY E.eid, E.ename \\\n",
        "                HAVING MIN(A.cruisingrange) > 1000')\n",
        "for r in cursor:\n",
        "    print(r[0])\n",
        "connection.close()"
      ]
    },
    {
      "cell_type": "code",
      "execution_count": null,
      "metadata": {
        "id": "SgE0-6vjIBab"
      },
      "outputs": [],
      "source": [
        "# Por cada piloto que está certificado para volar más de tres aviones, encuentre el id y nombre del piloto, junto con la autonomía del avión\n",
        "# con máxima autonomía para el que está certificado.\n",
        "\n",
        "connection = sqlite3.connect('data.db')\n",
        "cursor = connection.cursor()\n",
        "cursor.execute('SELECT E.eid, E.ename, MAX (A.cruisingrange) \\\n",
        "                FROM Employees E, Certified C, Aircraft A \\\n",
        "                WHERE C.aid = A.aid AND E.eid = C.eid\\\n",
        "                GROUP BY C.eid \\\n",
        "                HAVING COUNT (*) > 3')\n",
        "for r in cursor:\n",
        "    print(r[0], r[1], r[2])\n",
        "connection.close()"
      ]
    },
    {
      "cell_type": "code",
      "execution_count": null,
      "metadata": {
        "id": "2CZjs1dkIBab"
      },
      "outputs": [],
      "source": [
        "# Encuentre los id y nombres de los aviones que pueden ser usados en rutas de Los Ángeles a Chicago.\n",
        "\n",
        "connection = sqlite3.connect('data.db')\n",
        "cursor = connection.cursor()\n",
        "cursor.execute(\"SELECT A.aid, A.aname \\\n",
        "                FROM Aircraft A \\\n",
        "                WHERE A.cruisingrange > (SELECT MIN (F.distance) \\\n",
        "                                         FROM Flights F \\\n",
        "                                         WHERE F.origin = 'Los Angeles' AND F.destination = 'Chicago')\")\n",
        "for r in cursor:\n",
        "    print(r[0], r[1])\n",
        "connection.close()"
      ]
    },
    {
      "cell_type": "code",
      "execution_count": null,
      "metadata": {
        "id": "HdJosZ2QIBac"
      },
      "outputs": [],
      "source": [
        "# Encuentre los nombres de los pilotos cuyo sueldo es menor que el precio del vuelo más barato de Los Ángeles a Honolulu.\n",
        "\n",
        "connection = sqlite3.connect('data.db')\n",
        "cursor = connection.cursor()\n",
        "cursor.execute(\"SELECT DISTINCT E.ename \\\n",
        "                FROM Employees E \\\n",
        "                WHERE E.salary < (SELECT MIN (F.price) \\\n",
        "                                  FROM Flights F \\\n",
        "                                  WHERE F.origin = 'Los Angeles' AND F.destination = 'Honolulu')\")\n",
        "for r in cursor:\n",
        "    print(r[0])\n",
        "connection.close()\n"
      ]
    },
    {
      "cell_type": "code",
      "execution_count": null,
      "metadata": {
        "id": "Dit75RZ6IBad"
      },
      "outputs": [],
      "source": [
        "# Encuentre los nombres de los aviones cuyos pilotos certificados tienen todos sueldos mayores a US$ 80.000.\n",
        "\n",
        "connection = sqlite3.connect('data.db')\n",
        "cursor = connection.cursor()\n",
        "cursor.execute(\"SELECT DISTINCT A.aname \\\n",
        "                FROM Aircraft A \\\n",
        "                WHERE A.Aid IN (SELECT C.aid \\\n",
        "                                FROM Certified C, Employees E \\\n",
        "                                WHERE C.eid = E.eid AND NOT EXISTS (SELECT * \\\n",
        "                                                                    FROM Employees E1 \\\n",
        "                                                                    WHERE E1.eid = E.eid AND E1.salary < 80000))\")\n",
        "for r in cursor:\n",
        "    print(r[0])\n",
        "connection.close()"
      ]
    }
  ],
  "metadata": {
    "kernelspec": {
      "display_name": "Python 3.8.6 64-bit",
      "language": "python",
      "name": "python3"
    },
    "language_info": {
      "codemirror_mode": {
        "name": "ipython",
        "version": 3
      },
      "file_extension": ".py",
      "mimetype": "text/x-python",
      "name": "python",
      "nbconvert_exporter": "python",
      "pygments_lexer": "ipython3",
      "version": "3.8.6"
    },
    "vscode": {
      "interpreter": {
        "hash": "5f0c199c1b13c591dc8d2398e4aa6037b22139c5b858b148853eacad2edb87e5"
      }
    },
    "colab": {
      "provenance": []
    }
  },
  "nbformat": 4,
  "nbformat_minor": 0
}